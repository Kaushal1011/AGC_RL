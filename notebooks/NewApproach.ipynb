{
 "cells": [
  {
   "cell_type": "code",
   "execution_count": 52,
   "id": "convertible-ecuador",
   "metadata": {},
   "outputs": [],
   "source": [
    "# For all setpoint params 15\n",
    "# Environment\n",
    "# Agent\n",
    "# Training\n",
    "import pickle"
   ]
  },
  {
   "cell_type": "markdown",
   "id": "mobile-password",
   "metadata": {},
   "source": [
    "![](NewRLAGC.png)"
   ]
  },
  {
   "cell_type": "code",
   "execution_count": 99,
   "id": "frank-version",
   "metadata": {},
   "outputs": [],
   "source": [
    "import numpy as np\n",
    "class AGCRLEnv:\n",
    "    def __init__(self,observations,actions,action_parameter,action_space):\n",
    "        \"\"\"initialise action space, observation space & load data\"\"\"\n",
    "        self.action_parameter=action_parameter\n",
    "        self.action_space=action_space\n",
    "        self.observations=observations\n",
    "        self.actions=actions\n",
    "        self.index=0\n",
    "        self.teamindex=0\n",
    "        self.observation_space=self.observations[self.teamindex].iloc[0].shape\n",
    "        self.curr_obs=self.observations[self.teamindex].iloc[self.index]\n",
    "        self.next_obs=self.curr_obs=self.observations[self.teamindex].iloc[self.index+1]\n",
    "        self.curr_reward=0\n",
    "        self.ep_reward=0\n",
    "        self.interval=action_space[1]-action_space[0]\n",
    "        \n",
    "    def estimate_closest_as(self,value):\n",
    "        return self.action_space[int(value)//int(self.interval)]\n",
    "    \n",
    "    def step(self,action):\n",
    "        \"\"\"\n",
    "        return reward and next obs \n",
    "        \"\"\"\n",
    "        self.reward=self.rewardfunc(action)\n",
    "        self.ep_reward+=self.reward\n",
    "        self.index+=1\n",
    "        cur_obs=self.curr_obs\n",
    "        next_obs=self.next_obs\n",
    "        if self.index>=len(self.observations[self.teamindex]):\n",
    "            self.reset()\n",
    "            return self.curr_obs,self.reward,True \n",
    "        self.curr_obs=self.observations[self.teamindex].iloc[self.index]\n",
    "        self.next_obs=self.curr_obs=self.observations[self.teamindex].iloc[self.index+1]\n",
    "        return self.curr_obs,self.reward,False\n",
    "    \n",
    "    def rewardfunc(self,action):\n",
    "        \"\"\"\n",
    "        action with action at current index in action if equal positive or else negative\n",
    "        \"\"\"\n",
    "#         print(self.action_space[action])\n",
    "#         print(self.actions[self.teamindex][\"assim_sp\"][self.index])\n",
    "        if(self.action_space[action]==self.estimate_closest_as(self.actions[self.teamindex][\"assim_sp\"][self.index])):\n",
    "            return 100\n",
    "        else:\n",
    "            return -1*abs(self.action_space[action]-self.actions[self.teamindex][\"assim_sp\"][self.index])\n",
    "    \n",
    "    def reset(self):\n",
    "        \"\"\"\n",
    "        set index to 0 and increment team index by 1 if greater than 4 go back to 0\n",
    "        \"\"\"\n",
    "        self.teamindex+=1\n",
    "        if self.teamindex>=5:\n",
    "            self.teamindex=0\n",
    "        self.index=0\n",
    "        self.observation_space=self.observations[self.teamindex].iloc[0].shape\n",
    "        self.curr_obs=self.observations[self.teamindex].iloc[self.index]\n",
    "        self.next_obs=self.curr_obs=self.observations[self.teamindex].iloc[self.index+1]\n",
    "        self.curr_reward=0\n",
    "        self.ep_reward=0\n",
    "    "
   ]
  },
  {
   "cell_type": "code",
   "execution_count": 100,
   "id": "rough-baker",
   "metadata": {},
   "outputs": [],
   "source": [
    "with open('observations.pickle', 'rb') as handle:\n",
    "    obs = pickle.load(handle)"
   ]
  },
  {
   "cell_type": "code",
   "execution_count": 101,
   "id": "civil-museum",
   "metadata": {},
   "outputs": [],
   "source": [
    "with open('actions.pickle', 'rb') as handle:\n",
    "    actions = pickle.load(handle)"
   ]
  },
  {
   "cell_type": "code",
   "execution_count": 102,
   "id": "special-hopkins",
   "metadata": {},
   "outputs": [],
   "source": [
    "env=AGCRLEnv(obs,actions,\"assim_sp\",np.linspace(0,100,21))"
   ]
  },
  {
   "cell_type": "code",
   "execution_count": 103,
   "id": "therapeutic-questionnaire",
   "metadata": {},
   "outputs": [
    {
     "data": {
      "text/plain": [
       "(array([  0.,   5.,  10.,  15.,  20.,  25.,  30.,  35.,  40.,  45.,  50.,\n",
       "         55.,  60.,  65.,  70.,  75.,  80.,  85.,  90.,  95., 100.]),\n",
       " (39,))"
      ]
     },
     "execution_count": 103,
     "metadata": {},
     "output_type": "execute_result"
    }
   ],
   "source": [
    "env.action_space,env.observation_space"
   ]
  },
  {
   "cell_type": "code",
   "execution_count": 104,
   "id": "united-garlic",
   "metadata": {},
   "outputs": [],
   "source": [
    "# env.index=10010"
   ]
  },
  {
   "cell_type": "code",
   "execution_count": 91,
   "id": "simplified-rates",
   "metadata": {},
   "outputs": [],
   "source": [
    "obs,reward,done=env.step(20)"
   ]
  },
  {
   "cell_type": "code",
   "execution_count": 92,
   "id": "composite-validity",
   "metadata": {},
   "outputs": [
    {
     "data": {
      "text/plain": [
       "(100, False)"
      ]
     },
     "execution_count": 92,
     "metadata": {},
     "output_type": "execute_result"
    }
   ],
   "source": [
    "reward,done"
   ]
  },
  {
   "cell_type": "code",
   "execution_count": 95,
   "id": "stuck-physiology",
   "metadata": {},
   "outputs": [],
   "source": [
    "obs,reward,done=env.step(7)"
   ]
  },
  {
   "cell_type": "code",
   "execution_count": 96,
   "id": "collective-report",
   "metadata": {},
   "outputs": [
    {
     "data": {
      "text/plain": [
       "-65.0"
      ]
     },
     "execution_count": 96,
     "metadata": {},
     "output_type": "execute_result"
    }
   ],
   "source": [
    "reward"
   ]
  },
  {
   "cell_type": "code",
   "execution_count": 97,
   "id": "british-belief",
   "metadata": {},
   "outputs": [],
   "source": [
    "from tensorflow.keras.models import Sequential\n",
    "from tensorflow.keras.layers import Dense, Dropout, Conv2D, MaxPooling2D, Activation, Flatten\n",
    "from tensorflow.keras.callbacks import TensorBoard\n",
    "from tensorflow.keras.optimizers import Adam\n",
    "from collections import deque\n",
    "import tensorflow as tf\n",
    "import numpy as np\n",
    "\n",
    "import time\n",
    "import random\n",
    "from tqdm import tqdm\n",
    "# Own Tensorboard class\n",
    "\n",
    "DISCOUNT = 0.99\n",
    "REPLAY_MEMORY_SIZE = 5000  # How many last steps to keep for model training\n",
    "# Minimum number of steps in a memory to start training\n",
    "MIN_REPLAY_MEMORY_SIZE = 1000\n",
    "MINIBATCH_SIZE = 1000  # How many steps (samples) to use for training\n",
    "UPDATE_TARGET_EVERY = 500  # Terminal states (end of episodes)\n",
    "MODEL_NAME = 'RLAGC'\n",
    "MIN_REWARD = -1000  # For model save\n",
    "# MEMORY_FRACTION = 0.20\n",
    "\n",
    "\n",
    "class ModifiedTensorBoard(TensorBoard):\n",
    "\n",
    "    # Overriding init to set initial step and writer (we want one log file for all .fit() calls)\n",
    "    def __init__(self, **kwargs):\n",
    "        super().__init__(**kwargs)\n",
    "        self.step = 1\n",
    "        self.writer = tf.summary.create_file_writer(self.log_dir)\n",
    "        self._log_write_dir = self.log_dir\n",
    "\n",
    "    # Overriding this method to stop creating default log writer\n",
    "    def set_model(self, model):\n",
    "        pass\n",
    "\n",
    "    # Overrided, saves logs with our step number\n",
    "    # (otherwise every .fit() will start writing from 0th step)\n",
    "    def on_epoch_end(self, epoch, logs=None):\n",
    "        self.update_stats(**logs)\n",
    "\n",
    "    # Overrided\n",
    "    # We train for one batch only, no need to save anything at epoch end\n",
    "    def on_batch_end(self, batch, logs=None):\n",
    "        pass\n",
    "\n",
    "    # Overrided, so won't close writer\n",
    "    def on_train_end(self, _):\n",
    "        pass\n",
    "\n",
    "    # Custom method for saving own metrics\n",
    "    # Creates writer, writes custom metrics and closes writer\n",
    "    def update_stats(self, **stats):\n",
    "        self._write_logs(stats, self.step)\n",
    "\n",
    "    def _write_logs(self, logs, index):\n",
    "        with self.writer.as_default():\n",
    "            for name, value in logs.items():\n",
    "                tf.summary.scalar(name, value, step=index)\n",
    "                self.step += 1\n",
    "                self.writer.flush()\n",
    "# Agent class\n",
    "\n",
    "\n",
    "class DQNAgent:\n",
    "    def __init__(self, env, model=None):\n",
    "\n",
    "        # Used to count when to update target network with main network's weights\n",
    "        self.target_update_counter = 0\n",
    "        self.env = env\n",
    "        self.action_space = env.action_space\n",
    "\n",
    "        if model == None:\n",
    "            # Main model\n",
    "            self.model = self.create_model()\n",
    "\n",
    "            # Target network\n",
    "            self.target_model = self.create_model()\n",
    "            self.target_model.set_weights(self.model.get_weights())\n",
    "        else:\n",
    "            self.model = model\n",
    "            self.target_model = self.create_model()\n",
    "            self.target_model.set_weights(self.model.get_weights())\n",
    "\n",
    "        # An array with last n steps for training\n",
    "        self.replay_memory = deque(maxlen=REPLAY_MEMORY_SIZE)\n",
    "\n",
    "        # Custom tensorboard object\n",
    "        self.tensorboard = ModifiedTensorBoard(\n",
    "            log_dir=\"logs/{}-{}\".format(MODEL_NAME, int(time.time())))\n",
    "\n",
    "    def create_model(self):\n",
    "        model = Sequential()\n",
    "\n",
    "        # OBSERVATION_SPACE_VALUES = (10, 10, 3) a 10x10 RGB image.\n",
    "        model.add(Dense(16, input_shape=self.env.observation_space))\n",
    "        model.add(Dense(32))\n",
    "        model.add(Dense(16))\n",
    "        # ACTION_SPACE_SIZE = how many choices (10)\n",
    "        model.add(Dense(len(self.action_space), activation='linear'))\n",
    "        model.compile(loss=\"mse\", optimizer=Adam(\n",
    "            lr=0.001), metrics=['accuracy'])\n",
    "        return model\n",
    "\n",
    "    # Adds step's data to a memory replay array\n",
    "    # (observation space, action, reward, new observation space, done)\n",
    "    def update_replay_memory(self, transition):\n",
    "        self.replay_memory.append(transition)\n",
    "\n",
    "    # Trains main network every step during episode\n",
    "    def train(self, terminal_state, step):\n",
    "\n",
    "        # Start training only if certain number of samples is already saved\n",
    "        if len(self.replay_memory) < MIN_REPLAY_MEMORY_SIZE:\n",
    "            return\n",
    "\n",
    "        # Get a minibatch of random samples from memory replay table\n",
    "        minibatch = random.sample(self.replay_memory, MINIBATCH_SIZE)\n",
    "        # minibatch = self.replay_memory[-MINIBATCH_SIZE:]\n",
    "        # Get current states from minibatch, then query NN model for Q values\n",
    "        current_states = np.array([transition[0]\n",
    "                                   for transition in minibatch])\n",
    "        current_qs_list = self.model.predict(current_states)\n",
    "\n",
    "        # Get future states from minibatch, then query NN model for Q values\n",
    "        # When using target network, query it, otherwise main network should be queried\n",
    "        new_current_states = np.array(\n",
    "            [transition[3] for transition in minibatch])\n",
    "        future_qs_list = self.target_model.predict(new_current_states)\n",
    "\n",
    "        X = []\n",
    "        y = []\n",
    "\n",
    "        # Now we need to enumerate our batches\n",
    "        for index, (current_state, action, reward, new_current_state, done) in enumerate(minibatch):\n",
    "\n",
    "            # If not a terminal state, get new q from future states, otherwise set it to 0\n",
    "            # almost like with Q Learning, but we use just part of equation here\n",
    "            if not done:\n",
    "                max_future_q = np.max(future_qs_list[index])\n",
    "                new_q = reward + DISCOUNT * max_future_q\n",
    "            else:\n",
    "                new_q = reward\n",
    "\n",
    "            # Update Q value for given state\n",
    "            current_qs = current_qs_list[index]\n",
    "            current_qs[action] = new_q\n",
    "\n",
    "            # And append to our training data\n",
    "            X.append(current_state)\n",
    "            y.append(current_qs)\n",
    "\n",
    "        # Fit on all samples as one batch, log only on terminal state\n",
    "        self.model.fit(np.array(X), np.array(y), batch_size=MINIBATCH_SIZE, verbose=0,\n",
    "                       shuffle=False, callbacks=[self.tensorboard] if terminal_state else None)\n",
    "\n",
    "        # Update target network counter every episode\n",
    "        if terminal_state:\n",
    "            self.target_update_counter += 1\n",
    "\n",
    "        # If counter reaches set value, update target network with weights of main network\n",
    "        if self.target_update_counter > UPDATE_TARGET_EVERY:\n",
    "            self.target_model.set_weights(self.model.get_weights())\n",
    "            self.target_update_counter = 0\n",
    "\n",
    "    # Queries main network for Q values given current observation space (environment state)\n",
    "    def get_qs(self, state):\n",
    "        return self.model.predict(np.array(state).reshape(1, self.env.observation_space[0]))[0]"
   ]
  },
  {
   "cell_type": "code",
   "execution_count": 98,
   "id": "institutional-trace",
   "metadata": {},
   "outputs": [
    {
     "data": {
      "text/plain": [
       "47863"
      ]
     },
     "execution_count": 98,
     "metadata": {},
     "output_type": "execute_result"
    }
   ],
   "source": [
    "len(env.observations[0])"
   ]
  },
  {
   "cell_type": "code",
   "execution_count": null,
   "id": "unavailable-communications",
   "metadata": {},
   "outputs": [],
   "source": []
  }
 ],
 "metadata": {
  "kernelspec": {
   "display_name": "Python 3",
   "language": "python",
   "name": "python3"
  },
  "language_info": {
   "codemirror_mode": {
    "name": "ipython",
    "version": 3
   },
   "file_extension": ".py",
   "mimetype": "text/x-python",
   "name": "python",
   "nbconvert_exporter": "python",
   "pygments_lexer": "ipython3",
   "version": "3.8.5"
  }
 },
 "nbformat": 4,
 "nbformat_minor": 5
}
