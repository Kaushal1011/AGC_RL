{
 "cells": [
  {
   "cell_type": "code",
   "execution_count": 10,
   "id": "gross-mineral",
   "metadata": {},
   "outputs": [],
   "source": [
    "# For all setpoint params 15\n",
    "# Environment\n",
    "# Agent\n",
    "# Training\n",
    "import pickle"
   ]
  },
  {
   "cell_type": "code",
   "execution_count": 88,
   "id": "minimal-jacob",
   "metadata": {},
   "outputs": [],
   "source": [
    "import numpy as np\n",
    "class AGCRLEnv:\n",
    "    def __init__(self,observations,actions,action_parameter,action_space):\n",
    "        \"\"\"initialise action space, observation space & load data\"\"\"\n",
    "        self.action_parameter=action_parameter\n",
    "        self.action_space=action_space\n",
    "        self.observations=observations\n",
    "        self.actions=actions\n",
    "        self.index=0\n",
    "        self.teamindex=0\n",
    "        self.observation_space=self.observations[self.teamindex].iloc[0].shape\n",
    "        self.curr_obs=self.observations[self.teamindex].iloc[self.index]\n",
    "        self.next_obs=self.curr_obs=self.observations[self.teamindex].iloc[self.index+1]\n",
    "        self.curr_reward=0\n",
    "        self.ep_reward=0\n",
    "    \n",
    "    def step(self,action):\n",
    "        \"\"\"\n",
    "        return reward and next obs \n",
    "        \"\"\"\n",
    "        self.reward=self.rewardfunc(action)\n",
    "        self.ep_reward+=self.reward\n",
    "        self.index+=1\n",
    "        self.curr_obs=self.observations[self.teamindex].iloc[self.index]\n",
    "        self.next_obs=self.curr_obs=self.observations[self.teamindex].iloc[self.index+1]\n",
    "        return self.curr_obs,self.reward\n",
    "    \n",
    "    def rewardfunc(self,action):\n",
    "        \"\"\"\n",
    "        action with action at current index in action if equal positive or else negative\n",
    "        \"\"\"\n",
    "        print(self.action_space[action])\n",
    "        print(self.actions[self.teamindex][\"assim_sp\"][self.index])\n",
    "        if(self.action_space[action]==self.actions[self.teamindex][\"assim_sp\"][self.index]):\n",
    "            return 100\n",
    "        else:\n",
    "            return -1*abs(self.action_space[action]-self.actions[self.teamindex][\"assim_sp\"][self.index])\n",
    "    \n",
    "    def reset(self):\n",
    "        \"\"\"\n",
    "        set index to 0 and increment team index by 1 if greater than 4 go back to 0\n",
    "        \"\"\"\n",
    "        self.teamindex+=1\n",
    "        if self.teamindex>=5:\n",
    "            self.teamindex=0\n",
    "        self.index=0\n",
    "        self.observation_space=self.observations[self.teamindex].iloc[0].shape\n",
    "        self.curr_obs=self.observations[self.teamindex].iloc[self.index]\n",
    "        self.next_obs=self.curr_obs=self.observations[self.teamindex].iloc[self.index+1]\n",
    "        self.curr_reward=0\n",
    "        self.ep_reward=0\n",
    "    "
   ]
  },
  {
   "cell_type": "code",
   "execution_count": 89,
   "id": "forty-banking",
   "metadata": {},
   "outputs": [],
   "source": [
    "with open('observations.pickle', 'rb') as handle:\n",
    "    obs = pickle.load(handle)"
   ]
  },
  {
   "cell_type": "code",
   "execution_count": 90,
   "id": "noticed-hello",
   "metadata": {},
   "outputs": [],
   "source": [
    "with open('actions.pickle', 'rb') as handle:\n",
    "    actions = pickle.load(handle)"
   ]
  },
  {
   "cell_type": "code",
   "execution_count": 91,
   "id": "subject-ordering",
   "metadata": {},
   "outputs": [],
   "source": [
    "a=AGCRLEnv(obs,actions,\"assim_sp\",np.array([0,50,100]))"
   ]
  },
  {
   "cell_type": "code",
   "execution_count": 92,
   "id": "usual-enforcement",
   "metadata": {},
   "outputs": [
    {
     "data": {
      "text/plain": [
       "array([  0,  50, 100])"
      ]
     },
     "execution_count": 92,
     "metadata": {},
     "output_type": "execute_result"
    }
   ],
   "source": [
    "a.action_space"
   ]
  },
  {
   "cell_type": "code",
   "execution_count": 93,
   "id": "actual-theology",
   "metadata": {},
   "outputs": [
    {
     "data": {
      "text/plain": [
       "(39,)"
      ]
     },
     "execution_count": 93,
     "metadata": {},
     "output_type": "execute_result"
    }
   ],
   "source": [
    "a.observation_space"
   ]
  },
  {
   "cell_type": "code",
   "execution_count": 94,
   "id": "floppy-farming",
   "metadata": {},
   "outputs": [
    {
     "data": {
      "text/plain": [
       "0.0"
      ]
     },
     "execution_count": 94,
     "metadata": {},
     "output_type": "execute_result"
    }
   ],
   "source": [
    "actions[0][\"assim_sp\"][0]"
   ]
  },
  {
   "cell_type": "code",
   "execution_count": 101,
   "id": "alternate-hampton",
   "metadata": {},
   "outputs": [
    {
     "name": "stdout",
     "output_type": "stream",
     "text": [
      "0\n",
      "0.0\n"
     ]
    }
   ],
   "source": [
    "obs,reward=a.step(0)"
   ]
  },
  {
   "cell_type": "code",
   "execution_count": 102,
   "id": "eastern-grain",
   "metadata": {},
   "outputs": [
    {
     "data": {
      "text/plain": [
       "100"
      ]
     },
     "execution_count": 102,
     "metadata": {},
     "output_type": "execute_result"
    }
   ],
   "source": [
    "reward"
   ]
  },
  {
   "cell_type": "code",
   "execution_count": 103,
   "id": "stretch-injection",
   "metadata": {},
   "outputs": [
    {
     "data": {
      "text/plain": [
       "array([  0,  50, 100])"
      ]
     },
     "execution_count": 103,
     "metadata": {},
     "output_type": "execute_result"
    }
   ],
   "source": [
    "a.action_space"
   ]
  },
  {
   "cell_type": "code",
   "execution_count": 104,
   "id": "hybrid-adams",
   "metadata": {},
   "outputs": [],
   "source": [
    "a.reset()"
   ]
  },
  {
   "cell_type": "code",
   "execution_count": 105,
   "id": "lyric-butterfly",
   "metadata": {},
   "outputs": [
    {
     "data": {
      "text/plain": [
       "1"
      ]
     },
     "execution_count": 105,
     "metadata": {},
     "output_type": "execute_result"
    }
   ],
   "source": [
    "a.teamindex"
   ]
  },
  {
   "cell_type": "code",
   "execution_count": 106,
   "id": "wireless-trading",
   "metadata": {},
   "outputs": [
    {
     "data": {
      "text/plain": [
       "0"
      ]
     },
     "execution_count": 106,
     "metadata": {},
     "output_type": "execute_result"
    }
   ],
   "source": [
    "a.index"
   ]
  },
  {
   "cell_type": "code",
   "execution_count": null,
   "id": "minor-jimmy",
   "metadata": {},
   "outputs": [],
   "source": []
  }
 ],
 "metadata": {
  "kernelspec": {
   "display_name": "Python 3",
   "language": "python",
   "name": "python3"
  },
  "language_info": {
   "codemirror_mode": {
    "name": "ipython",
    "version": 3
   },
   "file_extension": ".py",
   "mimetype": "text/x-python",
   "name": "python",
   "nbconvert_exporter": "python",
   "pygments_lexer": "ipython3",
   "version": "3.8.5"
  }
 },
 "nbformat": 4,
 "nbformat_minor": 5
}
