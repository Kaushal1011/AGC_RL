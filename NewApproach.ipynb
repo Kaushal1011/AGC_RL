{
 "cells": [
  {
   "cell_type": "code",
   "execution_count": 52,
   "id": "stupid-version",
   "metadata": {},
   "outputs": [],
   "source": [
    "# For all setpoint params 15\n",
    "# Environment\n",
    "# Agent\n",
    "# Training\n",
    "import pickle"
   ]
  },
  {
   "cell_type": "markdown",
   "id": "consecutive-accuracy",
   "metadata": {},
   "source": [
    "![](NewRLAGC.png)"
   ]
  },
  {
   "cell_type": "code",
   "execution_count": 62,
   "id": "forward-stone",
   "metadata": {},
   "outputs": [],
   "source": [
    "import numpy as np\n",
    "class AGCRLEnv:\n",
    "    def __init__(self,observations,actions,action_parameter,action_space):\n",
    "        \"\"\"initialise action space, observation space & load data\"\"\"\n",
    "        self.action_parameter=action_parameter\n",
    "        self.action_space=action_space\n",
    "        self.observations=observations\n",
    "        self.actions=actions\n",
    "        self.index=0\n",
    "        self.teamindex=0\n",
    "        self.observation_space=self.observations[self.teamindex].iloc[0].shape\n",
    "        self.curr_obs=self.observations[self.teamindex].iloc[self.index]\n",
    "        self.next_obs=self.curr_obs=self.observations[self.teamindex].iloc[self.index+1]\n",
    "        self.curr_reward=0\n",
    "        self.ep_reward=0\n",
    "        self.interval=action_space[1]-action_space[0]\n",
    "        \n",
    "    def estimate_closest_as(self,value):\n",
    "        return self.action_space[int(value)//int(self.interval)]\n",
    "    \n",
    "    def step(self,action):\n",
    "        \"\"\"\n",
    "        return reward and next obs \n",
    "        \"\"\"\n",
    "        self.reward=self.rewardfunc(action)\n",
    "        self.ep_reward+=self.reward\n",
    "        self.index+=1\n",
    "        self.curr_obs=self.observations[self.teamindex].iloc[self.index]\n",
    "        self.next_obs=self.curr_obs=self.observations[self.teamindex].iloc[self.index+1]\n",
    "        return self.curr_obs,self.reward\n",
    "    \n",
    "    def rewardfunc(self,action):\n",
    "        \"\"\"\n",
    "        action with action at current index in action if equal positive or else negative\n",
    "        \"\"\"\n",
    "#         print(self.action_space[action])\n",
    "#         print(self.actions[self.teamindex][\"assim_sp\"][self.index])\n",
    "        if(self.action_space[action]==self.estimate_closest_as(self.actions[self.teamindex][\"assim_sp\"][self.index])):\n",
    "            return 100\n",
    "        else:\n",
    "            return -1*abs(self.action_space[action]-self.actions[self.teamindex][\"assim_sp\"][self.index])\n",
    "    \n",
    "    def reset(self):\n",
    "        \"\"\"\n",
    "        set index to 0 and increment team index by 1 if greater than 4 go back to 0\n",
    "        \"\"\"\n",
    "        self.teamindex+=1\n",
    "        if self.teamindex>=5:\n",
    "            self.teamindex=0\n",
    "        self.index=0\n",
    "        self.observation_space=self.observations[self.teamindex].iloc[0].shape\n",
    "        self.curr_obs=self.observations[self.teamindex].iloc[self.index]\n",
    "        self.next_obs=self.curr_obs=self.observations[self.teamindex].iloc[self.index+1]\n",
    "        self.curr_reward=0\n",
    "        self.ep_reward=0\n",
    "    "
   ]
  },
  {
   "cell_type": "code",
   "execution_count": 63,
   "id": "imperial-cosmetic",
   "metadata": {},
   "outputs": [],
   "source": [
    "with open('observations.pickle', 'rb') as handle:\n",
    "    obs = pickle.load(handle)"
   ]
  },
  {
   "cell_type": "code",
   "execution_count": 64,
   "id": "monetary-jaguar",
   "metadata": {},
   "outputs": [],
   "source": [
    "with open('actions.pickle', 'rb') as handle:\n",
    "    actions = pickle.load(handle)"
   ]
  },
  {
   "cell_type": "code",
   "execution_count": 65,
   "id": "editorial-burning",
   "metadata": {},
   "outputs": [],
   "source": [
    "env=AGCRLEnv(obs,actions,\"assim_sp\",np.linspace(0,100,21))"
   ]
  },
  {
   "cell_type": "code",
   "execution_count": 66,
   "id": "dangerous-laser",
   "metadata": {},
   "outputs": [
    {
     "data": {
      "text/plain": [
       "(array([  0.,   5.,  10.,  15.,  20.,  25.,  30.,  35.,  40.,  45.,  50.,\n",
       "         55.,  60.,  65.,  70.,  75.,  80.,  85.,  90.,  95., 100.]),\n",
       " (39,))"
      ]
     },
     "execution_count": 66,
     "metadata": {},
     "output_type": "execute_result"
    }
   ],
   "source": [
    "env.action_space,env.observation_space"
   ]
  },
  {
   "cell_type": "code",
   "execution_count": 67,
   "id": "collectible-modeling",
   "metadata": {},
   "outputs": [],
   "source": [
    "env.index=10010"
   ]
  },
  {
   "cell_type": "code",
   "execution_count": 69,
   "id": "needed-colleague",
   "metadata": {},
   "outputs": [],
   "source": [
    "obs,reward=env.step(20)"
   ]
  },
  {
   "cell_type": "code",
   "execution_count": 71,
   "id": "emotional-divide",
   "metadata": {},
   "outputs": [
    {
     "data": {
      "text/plain": [
       "100"
      ]
     },
     "execution_count": 71,
     "metadata": {},
     "output_type": "execute_result"
    }
   ],
   "source": [
    "reward"
   ]
  },
  {
   "cell_type": "code",
   "execution_count": 72,
   "id": "romance-somalia",
   "metadata": {},
   "outputs": [],
   "source": [
    "obs,reward=env.step(7)"
   ]
  },
  {
   "cell_type": "code",
   "execution_count": 73,
   "id": "desirable-grounds",
   "metadata": {},
   "outputs": [
    {
     "data": {
      "text/plain": [
       "-65.0"
      ]
     },
     "execution_count": 73,
     "metadata": {},
     "output_type": "execute_result"
    }
   ],
   "source": [
    "reward"
   ]
  },
  {
   "cell_type": "code",
   "execution_count": null,
   "id": "sweet-column",
   "metadata": {},
   "outputs": [],
   "source": []
  }
 ],
 "metadata": {
  "kernelspec": {
   "display_name": "Python 3",
   "language": "python",
   "name": "python3"
  },
  "language_info": {
   "codemirror_mode": {
    "name": "ipython",
    "version": 3
   },
   "file_extension": ".py",
   "mimetype": "text/x-python",
   "name": "python",
   "nbconvert_exporter": "python",
   "pygments_lexer": "ipython3",
   "version": "3.8.5"
  }
 },
 "nbformat": 4,
 "nbformat_minor": 5
}
