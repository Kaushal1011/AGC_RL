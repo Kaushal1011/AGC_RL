{
 "cells": [
  {
   "cell_type": "code",
   "execution_count": 3,
   "id": "provincial-disclaimer",
   "metadata": {},
   "outputs": [],
   "source": [
    "from AGCRLEnv import AGCRLEnv\n",
    "from DQNAgent import DQNAgent\n",
    "import numpy as np\n",
    "import pandas as pd\n",
    "import matplotlib.pyplot as plt\n",
    "import pickle\n",
    "import os\n",
    "from tqdm import tqdm\n",
    "import time\n",
    "import tensorflow as tf"
   ]
  },
  {
   "cell_type": "code",
   "execution_count": 4,
   "id": "reflected-blues",
   "metadata": {},
   "outputs": [],
   "source": [
    "\n",
    "with open('observations.pickle', 'rb') as handle:\n",
    "    obs = pickle.load(handle)\n",
    "with open('actions.pickle', 'rb') as handle:\n",
    "    actions = pickle.load(handle)"
   ]
  },
  {
   "cell_type": "code",
   "execution_count": 5,
   "id": "periodic-facial",
   "metadata": {},
   "outputs": [],
   "source": [
    "assim_rl_actionspace=np.linspace(0,100,21)\n",
    "env=AGCRLEnv(obs,actions,\"assim_sp\",assim_rl_actionspace)"
   ]
  },
  {
   "cell_type": "code",
   "execution_count": 6,
   "id": "separated-adelaide",
   "metadata": {},
   "outputs": [
    {
     "data": {
      "text/plain": [
       "%time                       43815.003906\n",
       "AssimLight                      0.000000\n",
       "BlackScr                       85.000000\n",
       "CO2air                        470.000000\n",
       "Cum_irr                         0.300000\n",
       "EC_drain_PC                     1.900000\n",
       "EnScr                          96.000000\n",
       "HumDef                          7.000000\n",
       "PipeGrow                       55.900002\n",
       "PipeLow                        57.500000\n",
       "Rhair                          60.799999\n",
       "Tair                           20.600000\n",
       "Tot_PAR                         0.000000\n",
       "Tot_PAR_Lamps                   0.000000\n",
       "VentLee                         1.000000\n",
       "Ventwind                        0.000000\n",
       "co2_dos                         0.000500\n",
       "pH_drain_PC                     7.300000\n",
       "water_sup                       4.000000\n",
       "ProdA                           0.050000\n",
       "ProdB                           0.100000\n",
       "avg_nr_harvested_trusses        0.100000\n",
       "Truss development time         50.000000\n",
       "Nr_fruits_ClassA                0.000000\n",
       "Weight_fruits_ClassA           70.000000\n",
       "Nr_fruits_ClassB                0.000000\n",
       "Weight_fruits_ClassB            0.000000\n",
       "Flavour                        78.000000\n",
       "TSS                             8.600000\n",
       "Acid                           13.300000\n",
       "%Juice                         68.000000\n",
       "Bite                          193.000000\n",
       "Weight                          9.500000\n",
       "DMC_fruit                       8.770000\n",
       "Stem_elong                     15.000000\n",
       "Stem_thick                      8.000000\n",
       "Cum_trusses                     1.000000\n",
       "stem_dens                       2.600000\n",
       "plant_dens                      1.300000\n",
       "Name: 1, dtype: float32"
      ]
     },
     "execution_count": 6,
     "metadata": {},
     "output_type": "execute_result"
    }
   ],
   "source": [
    "env.resetinit()"
   ]
  },
  {
   "cell_type": "code",
   "execution_count": 7,
   "id": "coordinate-attachment",
   "metadata": {},
   "outputs": [],
   "source": [
    "\n",
    "\n",
    "# Environment settings\n",
    "EPISODES = 1\n",
    "# Exploration settings\n",
    "epsilon = 1  # not a constant, going to be decayed\n",
    "EPSILON_DECAY = 0.99975\n",
    "MIN_EPSILON = 0.001\n",
    "\n",
    "#  Stats settings\n",
    "AGGREGATE_STATS_EVERY = 500  # steps\n",
    "SHOW_PREVIEW = False\n",
    "SAVE_MODEL_EVERY=5000\n",
    "MODEL_NAME=\"AGCRL_ASSIM_ACCREWARD\"\n",
    "MIN_REWARD = -5000"
   ]
  },
  {
   "cell_type": "code",
   "execution_count": 8,
   "id": "parliamentary-recruitment",
   "metadata": {},
   "outputs": [],
   "source": [
    "# Create models folder\n",
    "if not os.path.isdir('models'):\n",
    "    os.makedirs('models')"
   ]
  },
  {
   "cell_type": "code",
   "execution_count": 9,
   "id": "honey-radio",
   "metadata": {},
   "outputs": [
    {
     "data": {
      "text/plain": [
       "(39,)"
      ]
     },
     "execution_count": 9,
     "metadata": {},
     "output_type": "execute_result"
    }
   ],
   "source": [
    "env.observation_space"
   ]
  },
  {
   "cell_type": "code",
   "execution_count": 10,
   "id": "apart-scratch",
   "metadata": {},
   "outputs": [],
   "source": [
    "# new_model = tf.keras.models.load_model('models/AGCRL_ASSIM___100.00max___60.34avg_-100.00min__1618374625.model')"
   ]
  },
  {
   "cell_type": "code",
   "execution_count": 11,
   "id": "serial-municipality",
   "metadata": {},
   "outputs": [],
   "source": [
    "agent = DQNAgent(env,env.action_space)\n",
    "# agent = DQNAgent(env,env.action_space)"
   ]
  },
  {
   "cell_type": "code",
   "execution_count": 12,
   "id": "acute-appearance",
   "metadata": {},
   "outputs": [
    {
     "data": {
      "text/plain": [
       "(%time                       43815.003906\n",
       " AssimLight                      0.000000\n",
       " BlackScr                       85.000000\n",
       " CO2air                        470.000000\n",
       " Cum_irr                         0.300000\n",
       " EC_drain_PC                     1.900000\n",
       " EnScr                          96.000000\n",
       " HumDef                          7.000000\n",
       " PipeGrow                       55.900002\n",
       " PipeLow                        57.500000\n",
       " Rhair                          60.799999\n",
       " Tair                           20.600000\n",
       " Tot_PAR                         0.000000\n",
       " Tot_PAR_Lamps                   0.000000\n",
       " VentLee                         1.000000\n",
       " Ventwind                        0.000000\n",
       " co2_dos                         0.000500\n",
       " pH_drain_PC                     7.300000\n",
       " water_sup                       4.000000\n",
       " ProdA                           0.050000\n",
       " ProdB                           0.100000\n",
       " avg_nr_harvested_trusses        0.100000\n",
       " Truss development time         50.000000\n",
       " Nr_fruits_ClassA                0.000000\n",
       " Weight_fruits_ClassA           70.000000\n",
       " Nr_fruits_ClassB                0.000000\n",
       " Weight_fruits_ClassB            0.000000\n",
       " Flavour                        78.000000\n",
       " TSS                             8.600000\n",
       " Acid                           13.300000\n",
       " %Juice                         68.000000\n",
       " Bite                          193.000000\n",
       " Weight                          9.500000\n",
       " DMC_fruit                       8.770000\n",
       " Stem_elong                     15.000000\n",
       " Stem_thick                      8.000000\n",
       " Cum_trusses                     1.000000\n",
       " stem_dens                       2.600000\n",
       " plant_dens                      1.300000\n",
       " Name: 1, dtype: float32,\n",
       " 0)"
      ]
     },
     "execution_count": 12,
     "metadata": {},
     "output_type": "execute_result"
    }
   ],
   "source": [
    "env.resetinit(),env.teamindex"
   ]
  },
  {
   "cell_type": "code",
   "execution_count": 13,
   "id": "chemical-driver",
   "metadata": {},
   "outputs": [
    {
     "name": "stderr",
     "output_type": "stream",
     "text": [
      "  0%|          | 0/1 [00:00<?, ?episodes/s]"
     ]
    },
    {
     "name": "stdout",
     "output_type": "stream",
     "text": [
      "500\n",
      "1000\n",
      "1500\n",
      "2000\n",
      "2500\n",
      "3000\n",
      "3500\n",
      "4000\n",
      "4500\n",
      "5000\n",
      "WARNING:tensorflow:From /home/kaypee/miniconda3/envs/ds/lib/python3.8/site-packages/tensorflow/python/ops/resource_variable_ops.py:1813: calling BaseResourceVariable.__init__ (from tensorflow.python.ops.resource_variable_ops) with constraint is deprecated and will be removed in a future version.\n",
      "Instructions for updating:\n",
      "If using Keras pass *_constraint arguments to layers.\n",
      "INFO:tensorflow:Assets written to: models/AGCRL_ASSIM_ACCREWARD___100.00max__-22.10avg_-100.00min__1618420026.model/assets\n",
      "5500\n",
      "6000\n",
      "6500\n",
      "7000\n",
      "7500\n",
      "8000\n",
      "8500\n",
      "9000\n",
      "9500\n",
      "10000\n",
      "INFO:tensorflow:Assets written to: models/AGCRL_ASSIM_ACCREWARD___100.00max__-33.13avg_-100.00min__1618420396.model/assets\n",
      "10500\n",
      "11000\n",
      "11500\n",
      "12000\n",
      "12500\n",
      "13000\n",
      "13500\n",
      "14000\n",
      "14500\n",
      "15000\n",
      "INFO:tensorflow:Assets written to: models/AGCRL_ASSIM_ACCREWARD___100.00max___-9.81avg_-100.00min__1618420762.model/assets\n",
      "15500\n",
      "16000\n",
      "16500\n",
      "17000\n",
      "17500\n",
      "18000\n",
      "18500\n",
      "19000\n",
      "19500\n",
      "20000\n",
      "INFO:tensorflow:Assets written to: models/AGCRL_ASSIM_ACCREWARD___100.00max___65.16avg_-100.00min__1618421101.model/assets\n",
      "20500\n",
      "21000\n",
      "21500\n",
      "22000\n",
      "22500\n",
      "23000\n",
      "23500\n",
      "24000\n",
      "24500\n",
      "25000\n",
      "INFO:tensorflow:Assets written to: models/AGCRL_ASSIM_ACCREWARD___100.00max___45.70avg_-100.00min__1618421449.model/assets\n",
      "25500\n",
      "26000\n",
      "26500\n",
      "27000\n",
      "27500\n",
      "28000\n",
      "28500\n",
      "29000\n",
      "29500\n",
      "30000\n",
      "INFO:tensorflow:Assets written to: models/AGCRL_ASSIM_ACCREWARD___100.00max___80.00avg__-95.00min__1618421923.model/assets\n",
      "30500\n",
      "31000\n",
      "31500\n",
      "32000\n",
      "32500\n",
      "33000\n",
      "33500\n",
      "34000\n",
      "34500\n",
      "35000\n",
      "INFO:tensorflow:Assets written to: models/AGCRL_ASSIM_ACCREWARD___100.00max___27.88avg_-100.00min__1618422399.model/assets\n",
      "35500\n",
      "36000\n",
      "36500\n",
      "37000\n",
      "37500\n",
      "38000\n",
      "38500\n",
      "39000\n",
      "39500\n",
      "40000\n",
      "INFO:tensorflow:Assets written to: models/AGCRL_ASSIM_ACCREWARD___100.00max___44.51avg_-100.00min__1618422859.model/assets\n",
      "40500\n",
      "41000\n",
      "41500\n",
      "42000\n",
      "42500\n",
      "43000\n",
      "43500\n",
      "44000\n",
      "44500\n",
      "45000\n",
      "INFO:tensorflow:Assets written to: models/AGCRL_ASSIM_ACCREWARD___100.00max___97.95avg__-80.00min__1618423289.model/assets\n",
      "45500\n",
      "46000\n",
      "46500\n",
      "47000\n",
      "47500\n"
     ]
    },
    {
     "name": "stderr",
     "output_type": "stream",
     "text": [
      "100%|##########| 1/1 [58:36<00:00, 3516.63s/episodes]\n"
     ]
    }
   ],
   "source": [
    "ep_rewards=[]\n",
    "acc_avg_reward=[0]\n",
    "for episode in tqdm(range(1, EPISODES + 1), ascii=True, unit='episodes'):\n",
    "    step=0\n",
    "    # Update tensorboard step every episode\n",
    "    agent.tensorboard.step = episode\n",
    "\n",
    "    # Restarting episode - reset episode reward and step number\n",
    "    episode_reward = 0\n",
    "    step = 1\n",
    "\n",
    "    # Reset environment and get initial state\n",
    "    current_state = env.reset()\n",
    "\n",
    "    # Reset flag and start iterating until episode ends\n",
    "    done = False\n",
    "    while not done:\n",
    "        step+=1\n",
    "        # This part stays mostly the same, the change is to query a model for Q values\n",
    "        if np.random.random() > epsilon:\n",
    "            # Get action from Q table\n",
    "            action = np.argmax(agent.get_qs(current_state))\n",
    "        else:\n",
    "            # Get random action\n",
    "            action = np.random.randint(0, len(env.action_space))\n",
    "\n",
    "        new_state, reward, done = env.step(action)\n",
    "\n",
    "        # Every step we update replay memory and train main network\n",
    "        agent.update_replay_memory((current_state, action, reward, new_state, done))\n",
    "        agent.train(done, step)\n",
    "\n",
    "        current_state = new_state\n",
    "        ep_rewards.append(reward)\n",
    "#         print(step%AGGREGATE_STATS_EVERY)\n",
    "        if (step % AGGREGATE_STATS_EVERY)==0:\n",
    "            print(step)\n",
    "            \n",
    "            average_reward = sum(ep_rewards)/len(ep_rewards)\n",
    "            min_reward = min(ep_rewards)\n",
    "            max_reward = max(ep_rewards)\n",
    "            ar=average_reward\n",
    "            arval=acc_avg_reward[-1]+ar\n",
    "            acc_avg_reward.append(arval)\n",
    "            agent.tensorboard.update_stats(reward_avg=average_reward, reward_min=min_reward, reward_max=max_reward, epsilon=epsilon,acc_avg_reward=arval)\n",
    "            ep_rewards=[]\n",
    "            # Save model, but only when min reward is greater or equal a set value\n",
    "            if min_reward >= MIN_REWARD and step%SAVE_MODEL_EVERY==0:\n",
    "                agent.model.save(f'models/{MODEL_NAME}__{max_reward:_>7.2f}max_{average_reward:_>7.2f}avg_{min_reward:_>7.2f}min__{int(time.time())}.model')\n",
    "\n",
    "        if epsilon > MIN_EPSILON:\n",
    "            epsilon *= EPSILON_DECAY\n",
    "            epsilon = max(MIN_EPSILON, epsilon)"
   ]
  },
  {
   "cell_type": "code",
   "execution_count": 35,
   "id": "oriented-italian",
   "metadata": {},
   "outputs": [
    {
     "data": {
      "text/plain": [
       "-44.65564738292011"
      ]
     },
     "execution_count": 35,
     "metadata": {},
     "output_type": "execute_result"
    }
   ],
   "source": [
    "sum(ep_rewards)/len(ep_rewards)"
   ]
  },
  {
   "cell_type": "code",
   "execution_count": null,
   "id": "hundred-elimination",
   "metadata": {},
   "outputs": [],
   "source": []
  }
 ],
 "metadata": {
  "kernelspec": {
   "display_name": "Python 3",
   "language": "python",
   "name": "python3"
  },
  "language_info": {
   "codemirror_mode": {
    "name": "ipython",
    "version": 3
   },
   "file_extension": ".py",
   "mimetype": "text/x-python",
   "name": "python",
   "nbconvert_exporter": "python",
   "pygments_lexer": "ipython3",
   "version": "3.8.5"
  }
 },
 "nbformat": 4,
 "nbformat_minor": 5
}
